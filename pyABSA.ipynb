{
 "cells": [
  {
   "cell_type": "code",
   "execution_count": 1,
   "metadata": {},
   "outputs": [
    {
     "name": "stderr",
     "output_type": "stream",
     "text": [
      "/home/cse/anaconda3/envs/autoreply/lib/python3.9/site-packages/tqdm/auto.py:21: TqdmWarning: IProgress not found. Please update jupyter and ipywidgets. See https://ipywidgets.readthedocs.io/en/stable/user_install.html\n",
      "  from .autonotebook import tqdm as notebook_tqdm\n"
     ]
    },
    {
     "name": "stdout",
     "output_type": "stream",
     "text": [
      "[2025-06-16 16:56:09] (2.4.1.post1) PyABSA(2.4.1.post1): If your code crashes on Colab, please use the GPU runtime. Then run \"pip install pyabsa[dev] -U\" and restart the kernel.\n",
      "Or if it does not work, you can use v1.x versions, e.g., pip install pyabsa<2.0 -U\n",
      "\n",
      "\n",
      "\n",
      "\n",
      "WARNING: When you fails to load a checkpoint, e.g., Unexpected key(s),\n",
      "Try to downgrade transformers<=4.29.0.\n",
      "\n",
      "\n",
      "\n",
      "\n"
     ]
    },
    {
     "name": "stderr",
     "output_type": "stream",
     "text": [
      "/home/cse/anaconda3/envs/autoreply/lib/python3.9/multiprocessing/pool.py:265: ResourceWarning: unclosed running multiprocessing pool <multiprocessing.pool.Pool state=RUN pool_size=1>\n",
      "  _warn(f\"unclosed running multiprocessing pool {self!r}\",\n",
      "ResourceWarning: Enable tracemalloc to get the object allocation traceback\n"
     ]
    }
   ],
   "source": [
    "from pyabsa import AspectTermExtraction as ATEPC, AspectSentimentTripletExtraction as ASTE"
   ]
  },
  {
   "cell_type": "code",
   "execution_count": 6,
   "metadata": {},
   "outputs": [
    {
     "name": "stdout",
     "output_type": "stream",
     "text": [
      "[2025-06-04 13:24:53] (2.4.1.post1) ********** Available ATEPC model checkpoints for Version:2.4.1.post1 (this version) **********\n",
      "[2025-06-04 13:24:53] (2.4.1.post1) ********** Available ATEPC model checkpoints for Version:2.4.1.post1 (this version) **********\n",
      "[2025-06-04 13:24:53] (2.4.1.post1) Downloading checkpoint:multilingual \n",
      "[2025-06-04 13:24:53] (2.4.1.post1) Notice: The pretrained model are used for testing, it is recommended to train the model on your own custom datasets\n",
      "[2025-06-04 13:24:53] (2.4.1.post1) Checkpoint already downloaded, skip\n",
      "[2025-06-04 13:24:53] (2.4.1.post1) Load aspect extractor from checkpoints/ATEPC_MULTILINGUAL_CHECKPOINT\n",
      "[2025-06-04 13:24:53] (2.4.1.post1) config: checkpoints/ATEPC_MULTILINGUAL_CHECKPOINT/fast_lcf_atepc.config\n",
      "[2025-06-04 13:24:53] (2.4.1.post1) state_dict: checkpoints/ATEPC_MULTILINGUAL_CHECKPOINT/fast_lcf_atepc.state_dict\n",
      "[2025-06-04 13:24:53] (2.4.1.post1) model: None\n",
      "[2025-06-04 13:24:53] (2.4.1.post1) tokenizer: checkpoints/ATEPC_MULTILINGUAL_CHECKPOINT/fast_lcf_atepc.tokenizer\n",
      "[2025-06-04 13:24:53] (2.4.1.post1) Set Model Device: cuda:0\n",
      "[2025-06-04 13:24:53] (2.4.1.post1) Device Name: NVIDIA GeForce RTX 3090\n"
     ]
    },
    {
     "name": "stderr",
     "output_type": "stream",
     "text": [
      "/home/cse/anaconda3/envs/autoreply/lib/python3.9/site-packages/transformers/convert_slow_tokenizer.py:561: UserWarning: The sentencepiece tokenizer that you are converting to a fast tokenizer uses the byte fallback option which is not implemented in the fast tokenizers. In practice this means that the fast version of the tokenizer can produce unknown tokens whereas the sentencepiece version would have converted these unknown tokens into a sequence of byte tokens matching the original piece of text.\n",
      "  warnings.warn(\n"
     ]
    },
    {
     "name": "stdout",
     "output_type": "stream",
     "text": [
      "[2025-06-04 13:24:58] (2.4.1.post1) ********** Available ASTE model checkpoints for Version:2.4.1.post1 (this version) **********\n",
      "[2025-06-04 13:24:58] (2.4.1.post1) ********** Available ASTE model checkpoints for Version:2.4.1.post1 (this version) **********\n",
      "[2025-06-04 13:24:58] (2.4.1.post1) Downloading checkpoint:english \n",
      "[2025-06-04 13:24:58] (2.4.1.post1) Notice: The pretrained model are used for testing, it is recommended to train the model on your own custom datasets\n"
     ]
    },
    {
     "name": "stderr",
     "output_type": "stream",
     "text": [
      "Downloading checkpoint: 534MB [07:47,  1.14MB/s]                         \n"
     ]
    },
    {
     "name": "stdout",
     "output_type": "stream",
     "text": [
      "Find zipped checkpoint: ./checkpoints/ASTE_ENGLISH_CHECKPOINT/ASTE-EMCGCN_SemEval_f1_74.71.zip, unzipping\n",
      "Done.\n",
      "[2025-06-04 13:32:50] (2.4.1.post1) If the auto-downloading failed, please download it via browser: https://huggingface.co/spaces/yangheng/PyABSA/resolve/main/checkpoints/English/ASTE/ASTE-EMCGCN_SemEval_f1_74.71.zip \n",
      "[2025-06-04 13:32:50] (2.4.1.post1) Load sentiment classifier from checkpoints/ASTE_ENGLISH_CHECKPOINT\n",
      "[2025-06-04 13:32:50] (2.4.1.post1) config: checkpoints/ASTE_ENGLISH_CHECKPOINT/emcgcn.config\n",
      "[2025-06-04 13:32:50] (2.4.1.post1) state_dict: checkpoints/ASTE_ENGLISH_CHECKPOINT/emcgcn.state_dict\n",
      "[2025-06-04 13:32:50] (2.4.1.post1) model: None\n",
      "[2025-06-04 13:32:50] (2.4.1.post1) tokenizer: checkpoints/ASTE_ENGLISH_CHECKPOINT/emcgcn.tokenizer\n",
      "[2025-06-04 13:32:51] (2.4.1.post1) Set Model Device: cuda:0\n",
      "[2025-06-04 13:32:51] (2.4.1.post1) Device Name: NVIDIA GeForce RTX 3090\n"
     ]
    }
   ],
   "source": [
    "aspect_extractor = ATEPC.AspectExtractor(\"multilingual\")\n",
    "triplet_extractor = ASTE.AspectSentimentTripletExtractor(\"english\")"
   ]
  },
  {
   "cell_type": "code",
   "execution_count": 4,
   "metadata": {},
   "outputs": [
    {
     "data": {
      "application/vnd.microsoft.datawrangler.viewer.v0+json": {
       "columns": [
        {
         "name": "index",
         "rawType": "int64",
         "type": "integer"
        },
        {
         "name": "id",
         "rawType": "int64",
         "type": "integer"
        },
        {
         "name": "content",
         "rawType": "object",
         "type": "string"
        },
        {
         "name": "replyContent",
         "rawType": "object",
         "type": "string"
        },
        {
         "name": "score",
         "rawType": "int64",
         "type": "integer"
        },
        {
         "name": "app_name",
         "rawType": "object",
         "type": "string"
        }
       ],
       "conversionMethod": "pd.DataFrame",
       "ref": "c5802b68-6a48-487f-8b24-38b8432da14d",
       "rows": [
        [
         "0",
         "0",
         "Very good application to learn Al Quran word by word.",
         "BarakAllahu feekum for your kind words and support. Pray for us so that Allah may accept our efforts. Visit gtaf.org to check our other apps and share with others in sha Allah!",
         "5",
         "Al Quran (Tafsir & by Word)"
        ],
        [
         "1",
         "1",
         "Best book in the universe",
         "BarakAllahu feekum for your kind words and support. Pray for us so that Allah may accept our efforts. Visit gtaf.org to check our other apps and share with others in sha Allah!",
         "5",
         "Al Quran (Tafsir & by Word)"
        ],
        [
         "2",
         "2",
         "Alhamdulillah, it's really beneficial",
         "BarakAllahu feekum for your kind words and support. Pray for us so that Allah may accept our efforts. Visit gtaf.org to check our other apps and share with others in sha Allah!",
         "4",
         "Al Quran (Tafsir & by Word)"
        ],
        [
         "3",
         "3",
         "This app is the best and beautiful made. Thanks to those who made it. It really shows that you guys are doing your work for Allah ﷻ. And may Allah ﷻ reward you all.",
         "BarakAllahu feekum for your kind words and support. Pray for us so that Allah may accept our efforts. Visit gtaf.org to check our other apps and share with others in sha Allah!",
         "5",
         "Al Quran (Tafsir & by Word)"
        ],
        [
         "4",
         "4",
         "Best",
         "BarakAllahu feekum for your kind words and support. Pray for us so that Allah may accept our efforts. Visit gtaf.org to check our other apps and share with others in sha Allah!",
         "5",
         "Al Quran (Tafsir & by Word)"
        ],
        [
         "5",
         "5",
         "A very good app 👍👍👍",
         "BarakAllahu feekum for your kind words and support. Pray for us so that Allah may accept our efforts. Visit gtaf.org to check our other apps and share with others in sha Allah!",
         "5",
         "Al Quran (Tafsir & by Word)"
        ],
        [
         "6",
         "6",
         "Thank you for this app.",
         "BarakAllahu feekum for your kind words and support. Pray for us so that Allah may accept our efforts. Visit gtaf.org to check our other apps and share with others in sha Allah!",
         "5",
         "Al Quran (Tafsir & by Word)"
        ],
        [
         "7",
         "7",
         "First of all, I thank Allah that we can read the Quran through apps.However, this app is different from other apps.In this app, you can read the Quran and learn about every sentence along with its meaning. I would like to thank the person who made this app.Above all, I pray that you may be engaged in all the works of Allah Almighty for the benefit of His servants, and that Allah may accept you as a responsible person.",
         "BarakAllahu feekum for your kind words and support. Pray for us so that Allah may accept our efforts. Visit gtaf.org to check our other apps and share with others in sha Allah!",
         "5",
         "Al Quran (Tafsir & by Word)"
        ],
        [
         "8",
         "8",
         "Wonderful quran app with a very clear translation and tafsir of the Quran.",
         "BarakAllahu feekum for your kind words and support. Pray for us so that Allah may accept our efforts. Visit gtaf.org to check our other apps and share with others in sha Allah!",
         "5",
         "Al Quran (Tafsir & by Word)"
        ],
        [
         "9",
         "9",
         "Good",
         "BarakAllahu feekum for your kind words and support. Pray for us so that Allah may accept our efforts. Visit gtaf.org to check our other apps and share with others in sha Allah!",
         "5",
         "Al Quran (Tafsir & by Word)"
        ],
        [
         "10",
         "10",
         "I like the app because you can use it to learn tabsil",
         "BarakAllahu feekum for your kind words and support. Pray for us so that Allah may accept our efforts. Visit gtaf.org to check our other apps and share with others in sha Allah!",
         "5",
         "Al Quran (Tafsir & by Word)"
        ],
        [
         "11",
         "11",
         "This app is good but recently crashing a lot. Can the developer fix it? Thanks.",
         "Assalamu 'alaykum dear user. We would love to make your experience better in sha Allah. If you are still facing the same issues or have any feature requests, please provide your feedback on feedback.gtaf.org. JazakAllahu khayran.",
         "5",
         "Al Quran (Tafsir & by Word)"
        ],
        [
         "12",
         "12",
         "MashaAllah, very useful, May Allah bless and protect all of us (ameen)",
         "BarakAllahu feekum for your kind words and support. Pray for us so that Allah may accept our efforts. Visit gtaf.org to check our other apps and share with others in sha Allah!",
         "5",
         "Al Quran (Tafsir & by Word)"
        ],
        [
         "13",
         "13",
         "Beautiful ❤️❤️❤️❤️❤️❤️❤️❤️❤️❤️ amazing",
         "BarakAllahu feekum for your kind words and support. Pray for us so that Allah may accept our efforts. Visit gtaf.org to check our other apps and share with others in sha Allah!",
         "5",
         "Al Quran (Tafsir & by Word)"
        ],
        [
         "14",
         "14",
         "Best quran app ✨️✨️. Has different englsih translation and different reciters and word by word translation. Best in play store among quran apps ✨️",
         "BarakAllahu feekum for your kind words and support. Pray for us so that Allah may accept our efforts. Visit gtaf.org to check our other apps and share with others in sha Allah!",
         "5",
         "Al Quran (Tafsir & by Word)"
        ],
        [
         "15",
         "15",
         "This app stands out among all similar apps with its exceptional features, seamless user experience, and stunning UI/UX design. The intuitive interface makes navigation smooth, and every feature is well thought out and highly functional. Unlike other apps, this one truly delivers on performance, reliability, and innovation. Highly recommended for anyone looking for the best in this category!",
         "BarakAllahu feekum for your kind words and support. Pray for us so that Allah may accept our efforts. Visit gtaf.org to check our other apps and share with others in sha Allah!",
         "5",
         "Al Quran (Tafsir & by Word)"
        ],
        [
         "16",
         "16",
         "আলহামদুলিল্লাহ, মনের মত একটা এপ।",
         "BarakAllahu feekum for your kind words and support. Pray for us so that Allah may accept our efforts. Visit gtaf.org to check our other apps and share with others in sha Allah!",
         "5",
         "Al Quran (Tafsir & by Word)"
        ],
        [
         "17",
         "17",
         "Very good.",
         "BarakAllahu feekum for your kind words and support. Pray for us so that Allah may accept our efforts. Visit gtaf.org to check our other apps and share with others in sha Allah!",
         "5",
         "Al Quran (Tafsir & by Word)"
        ],
        [
         "18",
         "18",
         "💚",
         "BarakAllahu feekum for your kind words and support. Pray for us so that Allah may accept our efforts. Visit gtaf.org to check our other apps and share with others in sha Allah!",
         "5",
         "Al Quran (Tafsir & by Word)"
        ],
        [
         "19",
         "19",
         "Amazing app everything in one app whoever designed it hats off!!",
         "BarakAllahu feekum for your kind words and support. Pray for us so that Allah may accept our efforts. Visit gtaf.org to check our other apps and share with others in sha Allah!",
         "5",
         "Al Quran (Tafsir & by Word)"
        ],
        [
         "20",
         "20",
         "Nice apps",
         "BarakAllahu feekum for your kind words and support. Pray for us so that Allah may accept our efforts. Visit gtaf.org to check our other apps and share with others in sha Allah!",
         "5",
         "Al Quran (Tafsir & by Word)"
        ],
        [
         "21",
         "21",
         "Allah ajja wajal aap ku Ajar Ata Kare Ameen",
         "BarakAllahu feekum for your kind words and support. Pray for us so that Allah may accept our efforts. Visit gtaf.org to check our other apps and share with others in sha Allah!",
         "5",
         "Al Quran (Tafsir & by Word)"
        ],
        [
         "22",
         "22",
         "Great app. Love it.",
         "BarakAllahu feekum for your kind words and support. Pray for us so that Allah may accept our efforts. Visit gtaf.org to check our other apps and share with others in sha Allah!",
         "5",
         "Al Quran (Tafsir & by Word)"
        ],
        [
         "23",
         "23",
         "Alhamdulillah it's a great app to achieve Quranic knowledge",
         "BarakAllahu feekum for your kind words and support. Pray for us so that Allah may accept our efforts. Visit gtaf.org to check our other apps and share with others in sha Allah!",
         "5",
         "Al Quran (Tafsir & by Word)"
        ],
        [
         "24",
         "24",
         "Allah homma Barik Good app subhanallah 🤲🤲",
         "BarakAllahu feekum for your kind words and support. Pray for us so that Allah may accept our efforts. Visit gtaf.org to check our other apps and share with others in sha Allah!",
         "5",
         "Al Quran (Tafsir & by Word)"
        ],
        [
         "25",
         "25",
         "Best Quran App",
         "BarakAllahu feekum for your kind words and support. Pray for us so that Allah may accept our efforts. Visit gtaf.org to check our other apps and share with others in sha Allah!",
         "5",
         "Al Quran (Tafsir & by Word)"
        ],
        [
         "26",
         "26",
         "Such a good app for Muslims 😇",
         "BarakAllahu feekum for your kind words and support. Pray for us so that Allah may accept our efforts. Visit gtaf.org to check our other apps and share with others in sha Allah!",
         "5",
         "Al Quran (Tafsir & by Word)"
        ],
        [
         "27",
         "28",
         "মাশা আল্লাহ। অসাধারণ উদ্যোগ আপনাদের। ধন্যবাদ",
         "BarakAllahu feekum for your kind words and support. Pray for us so that Allah may accept our efforts. Visit gtaf.org to check our other apps and share with others in sha Allah!",
         "5",
         "Al Quran (Tafsir & by Word)"
        ],
        [
         "28",
         "29",
         "Its good app but few things woud make it best recitation qaries, addittion of books of hadith also addition of quran with tajweed mushaf also for memorization like saudi gov app . It would make this app great",
         "BarakAllahu feekum for your kind words and support. Pray for us so that Allah may accept our efforts. Visit gtaf.org to check our other apps and share with others in sha Allah!",
         "4",
         "Al Quran (Tafsir & by Word)"
        ],
        [
         "29",
         "30",
         "The word to word translation is very clear, and the recitation is clear as well. It's very helpful for beginners.",
         "BarakAllahu feekum for your kind words and support. Pray for us so that Allah may accept our efforts. Visit gtaf.org to check our other apps and share with others in sha Allah!",
         "5",
         "Al Quran (Tafsir & by Word)"
        ],
        [
         "30",
         "31",
         "I love this quran app",
         "BarakAllahu feekum for your kind words and support. Pray for us so that Allah may accept our efforts. Visit gtaf.org to check our other apps and share with others in sha Allah!",
         "5",
         "Al Quran (Tafsir & by Word)"
        ],
        [
         "31",
         "32",
         "Luar biasa. Sangat membantu dan memudahkan untuk melatih hafalan Qur'an",
         "BarakAllahu feekum for your kind words and support. Pray for us so that Allah may accept our efforts. Visit gtaf.org to check our other apps and share with others in sha Allah!",
         "5",
         "Al Quran (Tafsir & by Word)"
        ],
        [
         "32",
         "33",
         "Unique and enlightening experience!",
         "BarakAllahu feekum for your kind words and support. Pray for us so that Allah may accept our efforts. Visit gtaf.org to check our other apps and share with others in sha Allah!",
         "5",
         "Al Quran (Tafsir & by Word)"
        ],
        [
         "33",
         "34",
         "Great and useful app. Recommend this to all muslims and beginner who learning the Quran",
         "BarakAllahu feekum for your kind words and support. Pray for us so that Allah may accept our efforts. Visit gtaf.org to check our other apps and share with others in sha Allah!",
         "5",
         "Al Quran (Tafsir & by Word)"
        ],
        [
         "34",
         "35",
         "Best app",
         "BarakAllahu feekum for your kind words and support. Pray for us so that Allah may accept our efforts. Visit gtaf.org to check our other apps and share with others in sha Allah!",
         "5",
         "Al Quran (Tafsir & by Word)"
        ],
        [
         "35",
         "36",
         "Great app",
         "BarakAllahu feekum for your kind words and support. Pray for us so that Allah may accept our efforts. Visit gtaf.org to check our other apps and share with others in sha Allah!",
         "5",
         "Al Quran (Tafsir & by Word)"
        ],
        [
         "36",
         "37",
         "Amazing app I love this❤❤❤",
         "BarakAllahu feekum for your kind words and support. Pray for us so that Allah may accept our efforts. Visit gtaf.org to check our other apps and share with others in sha Allah!",
         "5",
         "Al Quran (Tafsir & by Word)"
        ],
        [
         "37",
         "39",
         "Masha Allah",
         "BarakAllahu feekum for your kind words and support. Pray for us so that Allah may accept our efforts. Visit gtaf.org to check our other apps and share with others in sha Allah!",
         "5",
         "Al Quran (Tafsir & by Word)"
        ],
        [
         "38",
         "40",
         "JajaKAllah nice App",
         "BarakAllahu feekum for your kind words and support. Pray for us so that Allah may accept our efforts. Visit gtaf.org to check our other apps and share with others in sha Allah!",
         "5",
         "Al Quran (Tafsir & by Word)"
        ],
        [
         "39",
         "41",
         "Awesome app!",
         "BarakAllahu feekum for your kind words and support. Pray for us so that Allah may accept our efforts. Visit gtaf.org to check our other apps and share with others in sha Allah!",
         "5",
         "Al Quran (Tafsir & by Word)"
        ],
        [
         "40",
         "42",
         "I am enjoying reading and listening Quran with this application",
         "BarakAllahu feekum for your kind words and support. Pray for us so that Allah may accept our efforts. Visit gtaf.org to check our other apps and share with others in sha Allah!",
         "5",
         "Al Quran (Tafsir & by Word)"
        ],
        [
         "41",
         "43",
         "Maa shaa Allah I love this App alot. It is my favorite Quran app.",
         "BarakAllahu feekum for your kind words and support. Pray for us so that Allah may accept our efforts. Visit gtaf.org to check our other apps and share with others in sha Allah!",
         "5",
         "Al Quran (Tafsir & by Word)"
        ],
        [
         "42",
         "44",
         "Alhamdulillah",
         "BarakAllahu feekum for your kind words and support. Pray for us so that Allah may accept our efforts. Visit gtaf.org to check our other apps and share with others in sha Allah!",
         "5",
         "Al Quran (Tafsir & by Word)"
        ],
        [
         "43",
         "45",
         "Recommended",
         "BarakAllahu feekum for your kind words and support. Pray for us so that Allah may accept our efforts. Visit gtaf.org to check our other apps and share with others in sha Allah!",
         "5",
         "Al Quran (Tafsir & by Word)"
        ],
        [
         "44",
         "46",
         "Amazing app Ma sha Allah",
         "BarakAllahu feekum for your kind words and support. Pray for us so that Allah may accept our efforts. Visit gtaf.org to check our other apps and share with others in sha Allah!",
         "5",
         "Al Quran (Tafsir & by Word)"
        ],
        [
         "45",
         "47",
         "Best app. I'm using it daily.",
         "BarakAllahu feekum for your kind words and support. Pray for us so that Allah may accept our efforts. Visit gtaf.org to check our other apps and share with others in sha Allah!",
         "5",
         "Al Quran (Tafsir & by Word)"
        ],
        [
         "46",
         "49",
         "Amazing",
         "BarakAllahu feekum for your kind words and support. Pray for us so that Allah may accept our efforts. Visit gtaf.org to check our other apps and share with others in sha Allah!",
         "5",
         "Al Quran (Tafsir & by Word)"
        ],
        [
         "47",
         "50",
         "Best Quran app ever. Never found better one than this. Been using for over 5 years or so.",
         "BarakAllahu feekum for your kind words and support. Pray for us so that Allah may accept our efforts. Visit gtaf.org to check our other apps and share with others in sha Allah!",
         "5",
         "Al Quran (Tafsir & by Word)"
        ],
        [
         "48",
         "51",
         "Very very useful apps",
         "BarakAllahu feekum for your kind words and support. Pray for us so that Allah may accept our efforts. Visit gtaf.org to check our other apps and share with others in sha Allah!",
         "5",
         "Al Quran (Tafsir & by Word)"
        ],
        [
         "49",
         "52",
         "I honestly don't know about anyone else but I'm pretty satisfied with this app, specially being a student when I can't read in college and it helps a lot with that",
         "BarakAllahu feekum for your kind words and support. Pray for us so that Allah may accept our efforts. Visit gtaf.org to check our other apps and share with others in sha Allah!",
         "5",
         "Al Quran (Tafsir & by Word)"
        ]
       ],
       "shape": {
        "columns": 5,
        "rows": 74285
       }
      },
      "text/html": [
       "<div>\n",
       "<style scoped>\n",
       "    .dataframe tbody tr th:only-of-type {\n",
       "        vertical-align: middle;\n",
       "    }\n",
       "\n",
       "    .dataframe tbody tr th {\n",
       "        vertical-align: top;\n",
       "    }\n",
       "\n",
       "    .dataframe thead th {\n",
       "        text-align: right;\n",
       "    }\n",
       "</style>\n",
       "<table border=\"1\" class=\"dataframe\">\n",
       "  <thead>\n",
       "    <tr style=\"text-align: right;\">\n",
       "      <th></th>\n",
       "      <th>id</th>\n",
       "      <th>content</th>\n",
       "      <th>replyContent</th>\n",
       "      <th>score</th>\n",
       "      <th>app_name</th>\n",
       "    </tr>\n",
       "  </thead>\n",
       "  <tbody>\n",
       "    <tr>\n",
       "      <th>0</th>\n",
       "      <td>0</td>\n",
       "      <td>Very good application to learn Al Quran word b...</td>\n",
       "      <td>BarakAllahu feekum for your kind words and sup...</td>\n",
       "      <td>5</td>\n",
       "      <td>Al Quran (Tafsir &amp; by Word)</td>\n",
       "    </tr>\n",
       "    <tr>\n",
       "      <th>1</th>\n",
       "      <td>1</td>\n",
       "      <td>Best book in the universe</td>\n",
       "      <td>BarakAllahu feekum for your kind words and sup...</td>\n",
       "      <td>5</td>\n",
       "      <td>Al Quran (Tafsir &amp; by Word)</td>\n",
       "    </tr>\n",
       "    <tr>\n",
       "      <th>2</th>\n",
       "      <td>2</td>\n",
       "      <td>Alhamdulillah, it's really beneficial</td>\n",
       "      <td>BarakAllahu feekum for your kind words and sup...</td>\n",
       "      <td>4</td>\n",
       "      <td>Al Quran (Tafsir &amp; by Word)</td>\n",
       "    </tr>\n",
       "    <tr>\n",
       "      <th>3</th>\n",
       "      <td>3</td>\n",
       "      <td>This app is the best and beautiful made. Thank...</td>\n",
       "      <td>BarakAllahu feekum for your kind words and sup...</td>\n",
       "      <td>5</td>\n",
       "      <td>Al Quran (Tafsir &amp; by Word)</td>\n",
       "    </tr>\n",
       "    <tr>\n",
       "      <th>4</th>\n",
       "      <td>4</td>\n",
       "      <td>Best</td>\n",
       "      <td>BarakAllahu feekum for your kind words and sup...</td>\n",
       "      <td>5</td>\n",
       "      <td>Al Quran (Tafsir &amp; by Word)</td>\n",
       "    </tr>\n",
       "    <tr>\n",
       "      <th>...</th>\n",
       "      <td>...</td>\n",
       "      <td>...</td>\n",
       "      <td>...</td>\n",
       "      <td>...</td>\n",
       "      <td>...</td>\n",
       "    </tr>\n",
       "    <tr>\n",
       "      <th>74280</th>\n",
       "      <td>105716</td>\n",
       "      <td>This is great !! Thank you.</td>\n",
       "      <td>Thanks a lot for your valuable feedback. Pleas...</td>\n",
       "      <td>5</td>\n",
       "      <td>Muslims Day</td>\n",
       "    </tr>\n",
       "    <tr>\n",
       "      <th>74281</th>\n",
       "      <td>105717</td>\n",
       "      <td>Very helpful and nicely designed app. Well done.</td>\n",
       "      <td>Thanks for  your 5 star ratting..</td>\n",
       "      <td>5</td>\n",
       "      <td>Muslims Day</td>\n",
       "    </tr>\n",
       "    <tr>\n",
       "      <th>74282</th>\n",
       "      <td>105718</td>\n",
       "      <td>great job....it was awesome experience... :)</td>\n",
       "      <td>Thanks for with us.</td>\n",
       "      <td>5</td>\n",
       "      <td>Muslims Day</td>\n",
       "    </tr>\n",
       "    <tr>\n",
       "      <th>74283</th>\n",
       "      <td>105719</td>\n",
       "      <td>(y) মনের মতো একটা এপ পাওয়া গেলো শেষমেষ.. :-)</td>\n",
       "      <td>Thank you for with us.</td>\n",
       "      <td>5</td>\n",
       "      <td>Muslims Day</td>\n",
       "    </tr>\n",
       "    <tr>\n",
       "      <th>74284</th>\n",
       "      <td>105720</td>\n",
       "      <td>I was searching for an appropriate app for upc...</td>\n",
       "      <td>Thanks for your 5 star ratting ......</td>\n",
       "      <td>5</td>\n",
       "      <td>Muslims Day</td>\n",
       "    </tr>\n",
       "  </tbody>\n",
       "</table>\n",
       "<p>74285 rows × 5 columns</p>\n",
       "</div>"
      ],
      "text/plain": [
       "           id                                            content  \\\n",
       "0           0  Very good application to learn Al Quran word b...   \n",
       "1           1                          Best book in the universe   \n",
       "2           2              Alhamdulillah, it's really beneficial   \n",
       "3           3  This app is the best and beautiful made. Thank...   \n",
       "4           4                                               Best   \n",
       "...       ...                                                ...   \n",
       "74280  105716                        This is great !! Thank you.   \n",
       "74281  105717   Very helpful and nicely designed app. Well done.   \n",
       "74282  105718       great job....it was awesome experience... :)   \n",
       "74283  105719       (y) মনের মতো একটা এপ পাওয়া গেলো শেষমেষ.. :-)   \n",
       "74284  105720  I was searching for an appropriate app for upc...   \n",
       "\n",
       "                                            replyContent  score  \\\n",
       "0      BarakAllahu feekum for your kind words and sup...      5   \n",
       "1      BarakAllahu feekum for your kind words and sup...      5   \n",
       "2      BarakAllahu feekum for your kind words and sup...      4   \n",
       "3      BarakAllahu feekum for your kind words and sup...      5   \n",
       "4      BarakAllahu feekum for your kind words and sup...      5   \n",
       "...                                                  ...    ...   \n",
       "74280  Thanks a lot for your valuable feedback. Pleas...      5   \n",
       "74281                  Thanks for  your 5 star ratting..      5   \n",
       "74282                                Thanks for with us.      5   \n",
       "74283                             Thank you for with us.      5   \n",
       "74284              Thanks for your 5 star ratting ......      5   \n",
       "\n",
       "                          app_name  \n",
       "0      Al Quran (Tafsir & by Word)  \n",
       "1      Al Quran (Tafsir & by Word)  \n",
       "2      Al Quran (Tafsir & by Word)  \n",
       "3      Al Quran (Tafsir & by Word)  \n",
       "4      Al Quran (Tafsir & by Word)  \n",
       "...                            ...  \n",
       "74280                  Muslims Day  \n",
       "74281                  Muslims Day  \n",
       "74282                  Muslims Day  \n",
       "74283                  Muslims Day  \n",
       "74284                  Muslims Day  \n",
       "\n",
       "[74285 rows x 5 columns]"
      ]
     },
     "execution_count": 4,
     "metadata": {},
     "output_type": "execute_result"
    }
   ],
   "source": [
    "import pandas as pd, os\n",
    "from IPython.display import clear_output\n",
    "\n",
    "\n",
    "df = pd.read_csv(\"./datasets/merged_reviews.csv\")\n",
    "df"
   ]
  },
  {
   "cell_type": "code",
   "execution_count": 5,
   "metadata": {},
   "outputs": [
    {
     "name": "stdout",
     "output_type": "stream",
     "text": [
      "Len of result_df: 74285\n"
     ]
    },
    {
     "data": {
      "application/vnd.microsoft.datawrangler.viewer.v0+json": {
       "columns": [
        {
         "name": "index",
         "rawType": "int64",
         "type": "integer"
        },
        {
         "name": "id",
         "rawType": "int64",
         "type": "integer"
        },
        {
         "name": "review",
         "rawType": "object",
         "type": "string"
        },
        {
         "name": "aspects",
         "rawType": "object",
         "type": "unknown"
        }
       ],
       "conversionMethod": "pd.DataFrame",
       "ref": "3ea9264a-829e-44cb-87d8-9355406a7a0e",
       "rows": [
        [
         "0",
         "0",
         "Very good application to learn Al Quran word by word.",
         "[{'aspect': 'application', 'polarity': 'Positive'}]"
        ],
        [
         "1",
         "1",
         "Best book in the universe",
         "[{'aspect': 'book', 'polarity': 'Positive'}]"
        ],
        [
         "2",
         "2",
         "Alhamdulillah, it's really beneficial",
         "[]"
        ],
        [
         "3",
         "3",
         "This app is the best and beautiful made. Thanks to those who made it. It really shows that you guys are doing your work for Allah ﷻ. And may Allah ﷻ reward you all.",
         "[{'aspect': 'app', 'polarity': 'Positive'}]"
        ],
        [
         "4",
         "4",
         "Best",
         "[]"
        ],
        [
         "5",
         "5",
         "A very good app 👍👍👍",
         "[{'aspect': 'app', 'polarity': 'Positive'}]"
        ],
        [
         "6",
         "6",
         "Thank you for this app.",
         "[{'aspect': 'app', 'polarity': 'Positive'}]"
        ],
        [
         "7",
         "7",
         "First of all, I thank Allah that we can read the Quran through apps.However, this app is different from other apps.In this app, you can read the Quran and learn about every sentence along with its meaning. I would like to thank the person who made this app.Above all, I pray that you may be engaged in all the works of Allah Almighty for the benefit of His servants, and that Allah may accept you as a responsible person.",
         "[]"
        ],
        [
         "8",
         "8",
         "Wonderful quran app with a very clear translation and tafsir of the Quran.",
         "[{'aspect': 'quran', 'polarity': 'Positive'}, {'aspect': 'translation', 'polarity': 'Positive'}, {'aspect': 'tafsir', 'polarity': 'Positive'}]"
        ],
        [
         "9",
         "9",
         "Good",
         "[]"
        ],
        [
         "10",
         "10",
         "I like the app because you can use it to learn tabsil",
         "[]"
        ],
        [
         "11",
         "11",
         "This app is good but recently crashing a lot. Can the developer fix it? Thanks.",
         "[{'aspect': 'developer', 'polarity': 'Neutral'}]"
        ],
        [
         "12",
         "12",
         "MashaAllah, very useful, May Allah bless and protect all of us (ameen)",
         "[]"
        ],
        [
         "13",
         "13",
         "Beautiful ❤️❤️❤️❤️❤️❤️❤️❤️❤️❤️ amazing",
         "[{'aspect': 'Beautiful ❤ ️ ❤ ️ ❤', 'polarity': 'Positive'}]"
        ],
        [
         "14",
         "14",
         "Best quran app ✨️✨️. Has different englsih translation and different reciters and word by word translation. Best in play store among quran apps ✨️",
         "[]"
        ],
        [
         "15",
         "15",
         "This app stands out among all similar apps with its exceptional features, seamless user experience, and stunning UI/UX design. The intuitive interface makes navigation smooth, and every feature is well thought out and highly functional. Unlike other apps, this one truly delivers on performance, reliability, and innovation. Highly recommended for anyone looking for the best in this category!",
         "[{'aspect': 'features', 'polarity': 'Positive'}, {'aspect': 'user experience', 'polarity': 'Positive'}, {'aspect': 'UI / UX design', 'polarity': 'Positive'}, {'aspect': 'interface', 'polarity': 'Positive'}, {'aspect': 'performance', 'polarity': 'Positive'}, {'aspect': 'reliability', 'polarity': 'Positive'}]"
        ],
        [
         "16",
         "16",
         "আলহামদুলিল্লাহ, মনের মত একটা এপ।",
         "[]"
        ],
        [
         "17",
         "17",
         "Very good.",
         "[]"
        ],
        [
         "18",
         "18",
         "💚",
         "[]"
        ],
        [
         "19",
         "19",
         "Amazing app everything in one app whoever designed it hats off!!",
         "[]"
        ],
        [
         "20",
         "20",
         "Nice apps",
         "[{'aspect': 'apps', 'polarity': 'Positive'}]"
        ],
        [
         "21",
         "21",
         "Allah ajja wajal aap ku Ajar Ata Kare Ameen",
         "[]"
        ],
        [
         "22",
         "22",
         "Great app. Love it.",
         "[{'aspect': 'app', 'polarity': 'Positive'}]"
        ],
        [
         "23",
         "23",
         "Alhamdulillah it's a great app to achieve Quranic knowledge",
         "[{'aspect': 'app', 'polarity': 'Positive'}, {'aspect': 'knowledge', 'polarity': 'Positive'}]"
        ],
        [
         "24",
         "24",
         "Allah homma Barik Good app subhanallah 🤲🤲",
         "[{'aspect': 'app', 'polarity': 'Positive'}]"
        ],
        [
         "25",
         "25",
         "Best Quran App",
         "[{'aspect': 'App', 'polarity': 'Positive'}]"
        ],
        [
         "26",
         "26",
         "Such a good app for Muslims 😇",
         "[{'aspect': 'app', 'polarity': 'Positive'}]"
        ],
        [
         "27",
         "28",
         "মাশা আল্লাহ। অসাধারণ উদ্যোগ আপনাদের। ধন্যবাদ",
         "[]"
        ],
        [
         "28",
         "29",
         "Its good app but few things woud make it best recitation qaries, addittion of books of hadith also addition of quran with tajweed mushaf also for memorization like saudi gov app . It would make this app great",
         "[]"
        ],
        [
         "29",
         "30",
         "The word to word translation is very clear, and the recitation is clear as well. It's very helpful for beginners.",
         "[{'aspect': 'translation', 'polarity': 'Positive'}, {'aspect': 'recitation', 'polarity': 'Positive'}]"
        ],
        [
         "30",
         "31",
         "I love this quran app",
         "[]"
        ],
        [
         "31",
         "32",
         "Luar biasa. Sangat membantu dan memudahkan untuk melatih hafalan Qur'an",
         "[]"
        ],
        [
         "32",
         "33",
         "Unique and enlightening experience!",
         "[{'aspect': 'experience', 'polarity': 'Positive'}]"
        ],
        [
         "33",
         "34",
         "Great and useful app. Recommend this to all muslims and beginner who learning the Quran",
         "[{'aspect': 'app', 'polarity': 'Positive'}]"
        ],
        [
         "34",
         "35",
         "Best app",
         "[{'aspect': 'app', 'polarity': 'Positive'}]"
        ],
        [
         "35",
         "36",
         "Great app",
         "[]"
        ],
        [
         "36",
         "37",
         "Amazing app I love this❤❤❤",
         "[{'aspect': 'app', 'polarity': 'Positive'}]"
        ],
        [
         "37",
         "39",
         "Masha Allah",
         "[]"
        ],
        [
         "38",
         "40",
         "JajaKAllah nice App",
         "[{'aspect': 'App', 'polarity': 'Positive'}]"
        ],
        [
         "39",
         "41",
         "Awesome app!",
         "[{'aspect': 'app', 'polarity': 'Positive'}]"
        ],
        [
         "40",
         "42",
         "I am enjoying reading and listening Quran with this application",
         "[]"
        ],
        [
         "41",
         "43",
         "Maa shaa Allah I love this App alot. It is my favorite Quran app.",
         "[{'aspect': 'App', 'polarity': 'Positive'}]"
        ],
        [
         "42",
         "44",
         "Alhamdulillah",
         "[]"
        ],
        [
         "43",
         "45",
         "Recommended",
         "[]"
        ],
        [
         "44",
         "46",
         "Amazing app Ma sha Allah",
         "[{'aspect': 'app', 'polarity': 'Positive'}]"
        ],
        [
         "45",
         "47",
         "Best app. I'm using it daily.",
         "[{'aspect': 'app', 'polarity': 'Positive'}]"
        ],
        [
         "46",
         "49",
         "Amazing",
         "[]"
        ],
        [
         "47",
         "50",
         "Best Quran app ever. Never found better one than this. Been using for over 5 years or so.",
         "[]"
        ],
        [
         "48",
         "51",
         "Very very useful apps",
         "[{'aspect': 'apps', 'polarity': 'Positive'}]"
        ],
        [
         "49",
         "52",
         "I honestly don't know about anyone else but I'm pretty satisfied with this app, specially being a student when I can't read in college and it helps a lot with that",
         "[{'aspect': 'app', 'polarity': 'Positive'}]"
        ]
       ],
       "shape": {
        "columns": 3,
        "rows": 74285
       }
      },
      "text/html": [
       "<div>\n",
       "<style scoped>\n",
       "    .dataframe tbody tr th:only-of-type {\n",
       "        vertical-align: middle;\n",
       "    }\n",
       "\n",
       "    .dataframe tbody tr th {\n",
       "        vertical-align: top;\n",
       "    }\n",
       "\n",
       "    .dataframe thead th {\n",
       "        text-align: right;\n",
       "    }\n",
       "</style>\n",
       "<table border=\"1\" class=\"dataframe\">\n",
       "  <thead>\n",
       "    <tr style=\"text-align: right;\">\n",
       "      <th></th>\n",
       "      <th>id</th>\n",
       "      <th>review</th>\n",
       "      <th>aspects</th>\n",
       "    </tr>\n",
       "  </thead>\n",
       "  <tbody>\n",
       "    <tr>\n",
       "      <th>0</th>\n",
       "      <td>0</td>\n",
       "      <td>Very good application to learn Al Quran word b...</td>\n",
       "      <td>[{'aspect': 'application', 'polarity': 'Positi...</td>\n",
       "    </tr>\n",
       "    <tr>\n",
       "      <th>1</th>\n",
       "      <td>1</td>\n",
       "      <td>Best book in the universe</td>\n",
       "      <td>[{'aspect': 'book', 'polarity': 'Positive'}]</td>\n",
       "    </tr>\n",
       "    <tr>\n",
       "      <th>2</th>\n",
       "      <td>2</td>\n",
       "      <td>Alhamdulillah, it's really beneficial</td>\n",
       "      <td>[]</td>\n",
       "    </tr>\n",
       "    <tr>\n",
       "      <th>3</th>\n",
       "      <td>3</td>\n",
       "      <td>This app is the best and beautiful made. Thank...</td>\n",
       "      <td>[{'aspect': 'app', 'polarity': 'Positive'}]</td>\n",
       "    </tr>\n",
       "    <tr>\n",
       "      <th>4</th>\n",
       "      <td>4</td>\n",
       "      <td>Best</td>\n",
       "      <td>[]</td>\n",
       "    </tr>\n",
       "    <tr>\n",
       "      <th>...</th>\n",
       "      <td>...</td>\n",
       "      <td>...</td>\n",
       "      <td>...</td>\n",
       "    </tr>\n",
       "    <tr>\n",
       "      <th>74280</th>\n",
       "      <td>105716</td>\n",
       "      <td>This is great !! Thank you.</td>\n",
       "      <td>[]</td>\n",
       "    </tr>\n",
       "    <tr>\n",
       "      <th>74281</th>\n",
       "      <td>105717</td>\n",
       "      <td>Very helpful and nicely designed app. Well done.</td>\n",
       "      <td>[{'aspect': 'app', 'polarity': 'Positive'}]</td>\n",
       "    </tr>\n",
       "    <tr>\n",
       "      <th>74282</th>\n",
       "      <td>105718</td>\n",
       "      <td>great job....it was awesome experience... :)</td>\n",
       "      <td>[{'aspect': 'job', 'polarity': 'Positive'}]</td>\n",
       "    </tr>\n",
       "    <tr>\n",
       "      <th>74283</th>\n",
       "      <td>105719</td>\n",
       "      <td>(y) মনের মতো একটা এপ পাওয়া গেলো শেষমেষ.. :-)</td>\n",
       "      <td>[]</td>\n",
       "    </tr>\n",
       "    <tr>\n",
       "      <th>74284</th>\n",
       "      <td>105720</td>\n",
       "      <td>I was searching for an appropriate app for upc...</td>\n",
       "      <td>[]</td>\n",
       "    </tr>\n",
       "  </tbody>\n",
       "</table>\n",
       "<p>74285 rows × 3 columns</p>\n",
       "</div>"
      ],
      "text/plain": [
       "           id                                             review  \\\n",
       "0           0  Very good application to learn Al Quran word b...   \n",
       "1           1                          Best book in the universe   \n",
       "2           2              Alhamdulillah, it's really beneficial   \n",
       "3           3  This app is the best and beautiful made. Thank...   \n",
       "4           4                                               Best   \n",
       "...       ...                                                ...   \n",
       "74280  105716                        This is great !! Thank you.   \n",
       "74281  105717   Very helpful and nicely designed app. Well done.   \n",
       "74282  105718       great job....it was awesome experience... :)   \n",
       "74283  105719       (y) মনের মতো একটা এপ পাওয়া গেলো শেষমেষ.. :-)   \n",
       "74284  105720  I was searching for an appropriate app for upc...   \n",
       "\n",
       "                                                 aspects  \n",
       "0      [{'aspect': 'application', 'polarity': 'Positi...  \n",
       "1           [{'aspect': 'book', 'polarity': 'Positive'}]  \n",
       "2                                                     []  \n",
       "3            [{'aspect': 'app', 'polarity': 'Positive'}]  \n",
       "4                                                     []  \n",
       "...                                                  ...  \n",
       "74280                                                 []  \n",
       "74281        [{'aspect': 'app', 'polarity': 'Positive'}]  \n",
       "74282        [{'aspect': 'job', 'polarity': 'Positive'}]  \n",
       "74283                                                 []  \n",
       "74284                                                 []  \n",
       "\n",
       "[74285 rows x 3 columns]"
      ]
     },
     "execution_count": 5,
     "metadata": {},
     "output_type": "execute_result"
    }
   ],
   "source": [
    "RESULT_PATH = \"./absa_results_multilingual_pyabsa.csv\"\n",
    "\n",
    "result_df = pd.DataFrame(columns=[\"id\", \"review\", \"aspects\"]) if not os.path.exists(RESULT_PATH) else pd.read_csv(RESULT_PATH)\n",
    "not_processed_ids = sorted(set(df[\"id\"]) - set(result_df[\"id\"]))\n",
    "\n",
    "for id in not_processed_ids:\n",
    "    try:\n",
    "        review = df[df[\"id\"] == id][\"content\"].values[0]\n",
    "        result = triplet_extractor.predict(review)\n",
    "        result_df.loc[len(result_df)] = [\n",
    "            id,\n",
    "            review,\n",
    "            [\n",
    "                {\n",
    "                    \"aspect\": aspect,\n",
    "                    \"polarity\": polarity,\n",
    "                }\n",
    "                for aspect, polarity in zip(result[\"aspect\"], result[\"sentiment\"])\n",
    "            ],\n",
    "        ]\n",
    "\n",
    "        result_df.to_csv(RESULT_PATH, index=False)\n",
    "        print(f\"Processed id {id}\")\n",
    "        clear_output(wait=True)\n",
    "    except Exception as e:\n",
    "        print(f\"Error processing id {id}: {e}\")\n",
    "        result_df.to_csv(\"absa_results.csv\", index=False)\n",
    "        break\n",
    "\n",
    "print(\"Len of result_df:\", len(result_df))\n",
    "result_df"
   ]
  },
  {
   "cell_type": "code",
   "execution_count": null,
   "metadata": {},
   "outputs": [],
   "source": []
  }
 ],
 "metadata": {
  "kernelspec": {
   "display_name": "autoreply",
   "language": "python",
   "name": "python3"
  },
  "language_info": {
   "codemirror_mode": {
    "name": "ipython",
    "version": 3
   },
   "file_extension": ".py",
   "mimetype": "text/x-python",
   "name": "python",
   "nbconvert_exporter": "python",
   "pygments_lexer": "ipython3",
   "version": "3.9.0"
  }
 },
 "nbformat": 4,
 "nbformat_minor": 2
}
