{
 "cells": [
  {
   "cell_type": "code",
   "execution_count": 2,
   "id": "1617f04e",
   "metadata": {},
   "outputs": [],
   "source": [
    "import pandas as pd"
   ]
  },
  {
   "cell_type": "markdown",
   "id": "9a4ba236",
   "metadata": {},
   "source": [
    "### Dataset merging into one csv"
   ]
  },
  {
   "cell_type": "code",
   "execution_count": 2,
   "id": "eb3e8717",
   "metadata": {},
   "outputs": [],
   "source": [
    "def merge_dfs(df_list: list[pd.DataFrame]) -> pd.DataFrame:\n",
    "    merged_df = pd.concat(df_list, ignore_index=True)\n",
    "    merged_df.drop_duplicates(subset=[\"content\"], inplace=True)\n",
    "    merged_df.dropna(subset=[\"content\"], inplace=True)\n",
    "    merged_df.to_csv(\"./datasets/merged_reviews.csv\", index_label=\"id\")\n",
    "    return merged_df"
   ]
  },
  {
   "cell_type": "code",
   "execution_count": 3,
   "id": "ca3fb5fd",
   "metadata": {},
   "outputs": [],
   "source": [
    "df_list = [\n",
    "    pd.read_csv(\"./datasets/Al_Quran_filtered_reviews.csv\"),\n",
    "    pd.read_csv(\"./datasets/Muslim_Bangla_filtered_reviews.csv\"),\n",
    "    pd.read_csv(\"./datasets/Muslim_Day_filtered_reviews.csv\"),\n",
    "]"
   ]
  },
  {
   "cell_type": "code",
   "execution_count": 4,
   "id": "5818943e",
   "metadata": {},
   "outputs": [
    {
     "data": {
      "text/plain": [
       "(74285, 5)"
      ]
     },
     "execution_count": 4,
     "metadata": {},
     "output_type": "execute_result"
    }
   ],
   "source": [
    "# merged_df = merge_dfs(df_list)\n",
    "merged_df = pd.read_csv(\"./datasets/merged_reviews.csv\")\n",
    "merged_df.shape"
   ]
  },
  {
   "cell_type": "markdown",
   "id": "f44e05c7",
   "metadata": {},
   "source": [
    "### LLM prompting"
   ]
  },
  {
   "cell_type": "markdown",
   "id": "325e0d1c",
   "metadata": {},
   "source": [
    "#### Output schema"
   ]
  },
  {
   "cell_type": "code",
   "execution_count": 7,
   "id": "e8318103",
   "metadata": {},
   "outputs": [
    {
     "name": "stdout",
     "output_type": "stream",
     "text": [
      "{\n",
      "  \"$defs\": {\n",
      "    \"Aspect\": {\n",
      "      \"properties\": {\n",
      "        \"aspect\": {\n",
      "          \"title\": \"Aspect\",\n",
      "          \"type\": \"string\"\n",
      "        },\n",
      "        \"polarity\": {\n",
      "          \"enum\": [\n",
      "            \"positive\",\n",
      "            \"negative\",\n",
      "            \"neutral\"\n",
      "          ],\n",
      "          \"title\": \"Polarity\",\n",
      "          \"type\": \"string\"\n",
      "        }\n",
      "      },\n",
      "      \"required\": [\n",
      "        \"aspect\",\n",
      "        \"polarity\"\n",
      "      ],\n",
      "      \"title\": \"Aspect\",\n",
      "      \"type\": \"object\"\n",
      "    }\n",
      "  },\n",
      "  \"properties\": {\n",
      "    \"translation\": {\n",
      "      \"default\": \"\",\n",
      "      \"title\": \"Translation\",\n",
      "      \"type\": \"string\"\n",
      "    },\n",
      "    \"overall_sentiment\": {\n",
      "      \"enum\": [\n",
      "        \"positive\",\n",
      "        \"negative\",\n",
      "        \"neutral\"\n",
      "      ],\n",
      "      \"title\": \"Overall Sentiment\",\n",
      "      \"type\": \"string\"\n",
      "    },\n",
      "    \"aspects\": {\n",
      "      \"items\": {\n",
      "        \"$ref\": \"#/$defs/Aspect\"\n",
      "      },\n",
      "      \"title\": \"Aspects\",\n",
      "      \"type\": \"array\"\n",
      "    }\n",
      "  },\n",
      "  \"required\": [\n",
      "    \"overall_sentiment\",\n",
      "    \"aspects\"\n",
      "  ],\n",
      "  \"title\": \"Output\",\n",
      "  \"type\": \"object\"\n",
      "}\n"
     ]
    }
   ],
   "source": [
    "from pydantic import BaseModel\n",
    "from typing import Literal\n",
    "import json\n",
    "\n",
    "\n",
    "sentiment_types = Literal[\"positive\", \"negative\", \"neutral\"]\n",
    "\n",
    "\n",
    "class Aspect(BaseModel):\n",
    "    aspect: str\n",
    "    polarity: sentiment_types\n",
    "\n",
    "\n",
    "class Output(BaseModel):\n",
    "    translation: str = \"\"\n",
    "    overall_sentiment: sentiment_types\n",
    "    aspects: list[Aspect]\n",
    "\n",
    "\n",
    "output_schema = Output.model_json_schema()\n",
    "print(json.dumps(output_schema, indent=2))"
   ]
  },
  {
   "cell_type": "markdown",
   "id": "dabbc29a",
   "metadata": {},
   "source": [
    "#### Prompting"
   ]
  },
  {
   "cell_type": "code",
   "execution_count": null,
   "id": "bb96a960",
   "metadata": {},
   "outputs": [],
   "source": [
    "from cerebras.cloud.sdk import Cerebras\n",
    "import os, dotenv\n",
    "\n",
    "\n",
    "dotenv.load_dotenv()\n",
    "\n",
    "def get_sentiment(client: Cerebras, review: str) -> dict:\n",
    "    chat_completion = client.chat.completions.create(\n",
    "        model=\"llama3.3-70b\",\n",
    "        messages=[\n",
    "            {\n",
    "                \"role\": \"system\",\n",
    "                \"content\": \"You are good at aspect based sentiment analysis. You can extract the aspects and their polarity from the review text. The polarity can be positive, negative, or neutral.\",\n",
    "            },\n",
    "            {\n",
    "                \"role\": \"user\",\n",
    "                \"content\": f\"Extract the aspects and their polarity from the following review text enclosed in three backticks. Also, detect the overall sentiment of the review. If the review is not in English, then translate the review in English and give me the translation. Give me a json output as the response:\\n```\\n{review}\\n```\",\n",
    "            }\n",
    "        ],\n",
    "        temperature=0,\n",
    "        response_format={\n",
    "            \"type\": \"json_schema\", \n",
    "            \"json_schema\": {\n",
    "                \"name\": \"output_schema\",\n",
    "                \"strict\": True,\n",
    "                \"schema\": output_schema\n",
    "            }\n",
    "        }\n",
    "    )\n",
    "\n",
    "    output = chat_completion.choices[0].message.content\n",
    "    return json.loads(output)"
   ]
  },
  {
   "cell_type": "code",
   "execution_count": 7,
   "id": "fb61341c",
   "metadata": {},
   "outputs": [
    {
     "data": {
      "text/plain": [
       "Index(['id', 'content', 'replyContent', 'score', 'app_name'], dtype='object')"
      ]
     },
     "execution_count": 7,
     "metadata": {},
     "output_type": "execute_result"
    }
   ],
   "source": [
    "merged_df.columns"
   ]
  },
  {
   "cell_type": "code",
   "execution_count": 8,
   "id": "599356c2",
   "metadata": {},
   "outputs": [],
   "source": [
    "from datetime import datetime\n",
    "from tqdm import tqdm"
   ]
  },
  {
   "cell_type": "code",
   "execution_count": 9,
   "id": "b5d9b0fc",
   "metadata": {},
   "outputs": [],
   "source": [
    "import logging\n",
    "from datetime import datetime\n",
    "import os\n",
    "\n",
    "# Create logs directory if it doesn't exist\n",
    "os.makedirs(\"logs\", exist_ok=True)\n",
    "\n",
    "# Setup logger\n",
    "logger = logging.getLogger(\"SentimentAnalysisLogger\")\n",
    "logger.setLevel(logging.INFO)  # Set to INFO to capture both INFO and ERROR\n",
    "\n",
    "# Create file handler with time-stamped log filename\n",
    "log_file = f\"logs/sentiment_analysis_{datetime.now().strftime('%Y-%m-%d')}.log\"\n",
    "file_handler = logging.FileHandler(log_file)\n",
    "file_handler.setLevel(logging.INFO)\n",
    "\n",
    "# Create console handler\n",
    "console_handler = logging.StreamHandler()\n",
    "console_handler.setLevel(logging.INFO)\n",
    "\n",
    "# Create formatter and add it to the handlers\n",
    "formatter = logging.Formatter('%(asctime)s - %(name)s - %(levelname)s - %(message)s')\n",
    "file_handler.setFormatter(formatter)\n",
    "console_handler.setFormatter(formatter)\n",
    "\n",
    "# Add handlers to logger\n",
    "logger.addHandler(file_handler)\n",
    "# logger.addHandler(console_handler)"
   ]
  },
  {
   "cell_type": "code",
   "execution_count": null,
   "id": "5e56fe71",
   "metadata": {},
   "outputs": [
    {
     "name": "stderr",
     "output_type": "stream",
     "text": [
      "Processing reviews:  20%|█▉        | 8003/40350 [4:19:49<4:38:59,  1.93it/s]  "
     ]
    }
   ],
   "source": [
    "DATASET_PATH = f\"./datasets/merged_reviews_with_sentiments.csv\"\n",
    "\n",
    "dataset_df = pd.DataFrame(columns=[\"id\", \"content\", \"replyContent\", \"score\", \"app_name\", \"translation\", \"overall_sentiment\", \"aspects\"]) if not os.path.exists(DATASET_PATH) else pd.read_csv(DATASET_PATH)\n",
    "\n",
    "not_processed_ids = sorted(set(merged_df[\"id\"]) - set(dataset_df[\"id\"]))\n",
    "\n",
    "api_keys = [os.getenv(f\"CEREBRAS_API_KEY_{i}\") for i in range(6)]\n",
    "current_api_key_index = 0\n",
    "client = Cerebras(api_key=api_keys[current_api_key_index])\n",
    "for id in tqdm(not_processed_ids, desc=\"Processing reviews\"):\n",
    "    _, content, replyContent, score, app_name = merged_df[merged_df[\"id\"] == id].iloc[0]\n",
    "    if content == \"\":\n",
    "        continue\n",
    "    \n",
    "    while True:\n",
    "        try:\n",
    "            sentiment = get_sentiment(client, content)\n",
    "            dataset_df.loc[len(dataset_df)] = [\n",
    "                id,\n",
    "                content,\n",
    "                replyContent,\n",
    "                score,\n",
    "                app_name,\n",
    "                sentiment.get(\"translation\", \"\"),\n",
    "                sentiment[\"overall_sentiment\"],\n",
    "                [\n",
    "                    {\n",
    "                        \"aspect\": aspect[\"aspect\"],\n",
    "                        \"polarity\": aspect[\"polarity\"]\n",
    "                    }\n",
    "                    for aspect in sentiment[\"aspects\"]\n",
    "                ]\n",
    "            ]\n",
    "            dataset_df.to_csv(DATASET_PATH, index=False)\n",
    "            logger.info(f\"Processed id: {id}\")\n",
    "            break\n",
    "        except Exception as e:\n",
    "            dataset_df.to_csv(DATASET_PATH, index=False)\n",
    "            error_msg = e.__str__()\n",
    "            if \"request_quota_exceeded\" in error_msg:\n",
    "                logger.error(f\"Request quota exceeded for key serial {current_api_key_index}.\")\n",
    "                current_api_key_index += 1\n",
    "                logger.info(f\"Switching to API key serial {current_api_key_index}.\")\n",
    "            elif \"token_quota_exceeded\" in error_msg:\n",
    "                logger.error(f\"Token quota exceeded for key serial {current_api_key_index}. Please check your API key limits.\")\n",
    "                api_keys.pop(current_api_key_index)\n",
    "            else:\n",
    "                logger.error(f\"An error occurred: {error_msg}\")\n",
    "                raise e\n",
    "\n",
    "            if current_api_key_index >= len(api_keys):\n",
    "                current_api_key_index = 0\n",
    "            if len(api_keys) == 0:\n",
    "                break\n",
    "            client = Cerebras(api_key=api_keys[current_api_key_index])\n",
    "    if len(api_keys) == 0:\n",
    "        logger.error(\"No more API keys available. Exiting.\")\n",
    "        logger.info(f\"Total reviews processed: {len(dataset_df)}\")\n",
    "        break"
   ]
  },
  {
   "cell_type": "code",
   "execution_count": null,
   "id": "7874a4b5",
   "metadata": {},
   "outputs": [],
   "source": [
    "# RateLimitError: code 'token_quota_exceeded'\n",
    "# RateLimitError: code 'request_quota_exceeded'\n",
    "# Error code: 429 - {'message': 'Requests per hour limit exceeded - too many requests sent.', 'type': 'too_many_requests_error', 'param': 'quota', 'code': 'request_quota_exceeded'}"
   ]
  },
  {
   "cell_type": "markdown",
   "id": "3916e6fe",
   "metadata": {},
   "source": [
    "#### Experimentation"
   ]
  },
  {
   "cell_type": "code",
   "execution_count": 2,
   "id": "56500016",
   "metadata": {},
   "outputs": [],
   "source": [
    "reviews = [\n",
    "    \"Very good application to learn Al Quran word by word.\",\n",
    "    \"This app is the best and beautiful made. Thanks to those who made it. It really shows that you guys are doing your work for Allah ﷻ. And may Allah ﷻ reward you all.\",\n",
    "    \"Best\",\n",
    "    \"First of all, I thank Allah that we can read the Quran through apps.However, this app is different from other apps.In this app, you can read the Quran and learn about every sentence along with its meaning. I would like to thank the person who made this app.Above all, I pray that you may be engaged in all the works of Allah Almighty for the benefit of His servants, and that Allah may accept you as a responsible person.\",\n",
    "    \"Wonderful quran app with a very clear translation and tafsir of the Quran.\",\n",
    "]"
   ]
  },
  {
   "cell_type": "code",
   "execution_count": 3,
   "id": "97f06e6e",
   "metadata": {},
   "outputs": [
    {
     "data": {
      "text/plain": [
       "True"
      ]
     },
     "execution_count": 3,
     "metadata": {},
     "output_type": "execute_result"
    }
   ],
   "source": [
    "from cerebras.cloud.sdk import Cerebras\n",
    "from pprint import pprint\n",
    "from dotenv import load_dotenv\n",
    "import os\n",
    "\n",
    "load_dotenv()"
   ]
  },
  {
   "cell_type": "code",
   "execution_count": 8,
   "id": "3c031b82",
   "metadata": {},
   "outputs": [],
   "source": [
    "def get_sentiment(client: Cerebras, review: str) -> dict:\n",
    "    chat_completion = client.chat.completions.create(\n",
    "        model=\"llama3.3-70b\",\n",
    "        messages=[\n",
    "            {\n",
    "                \"role\": \"system\",\n",
    "                \"content\": \"You are good at aspect based sentiment analysis. You can extract the aspects and their polarity from the review text. The polarity can be positive, negative, or neutral.\",\n",
    "            },\n",
    "            {\n",
    "                \"role\": \"user\",\n",
    "                \"content\": f\"Extract the aspects and their polarity from the following review text enclosed in three backticks. You must extract the aspect from the given text. Don't create additional words in the aspects. Also, detect the overall sentiment of the review. If the review is not in English, then translate the review in English and give me the translation. Give me a json output as the response:\\n```\\n{review}\\n```\",\n",
    "            }\n",
    "        ],\n",
    "        temperature=0,\n",
    "        response_format={\n",
    "            \"type\": \"json_schema\", \n",
    "            \"json_schema\": {\n",
    "                \"name\": \"output_schema\",\n",
    "                \"strict\": True,\n",
    "                \"schema\": output_schema\n",
    "            }\n",
    "        }\n",
    "    )\n",
    "\n",
    "    output = chat_completion.choices[0].message.content\n",
    "    return json.loads(output)"
   ]
  },
  {
   "cell_type": "code",
   "execution_count": 9,
   "id": "78432b13",
   "metadata": {},
   "outputs": [],
   "source": [
    "client = Cerebras(api_key=os.getenv(\"CEREBRAS_API_KEY_0\"))"
   ]
  },
  {
   "cell_type": "code",
   "execution_count": null,
   "id": "22db6a5a",
   "metadata": {},
   "outputs": [
    {
     "name": "stdout",
     "output_type": "stream",
     "text": [
      "'Review: Very good application to learn Al Quran word by word.'\n",
      "(\"ABSA output: {'translation': None, 'overall_sentiment': 'positive', \"\n",
      " \"'aspects': [{'aspect': 'application', 'polarity': 'positive'}, {'aspect': \"\n",
      " \"'Al Quran', 'polarity': 'positive'}]}\")\n",
      "-------------------------------------------------------------------------------------------------------------------------------------------------------------\n",
      "('Review: This app is the best and beautiful made. Thanks to those who made '\n",
      " 'it. It really shows that you guys are doing your work for Allah ﷻ. And may '\n",
      " 'Allah ﷻ reward you all.')\n",
      "(\"ABSA output: {'translation': None, 'overall_sentiment': 'positive', \"\n",
      " \"'aspects': [{'aspect': 'app', 'polarity': 'positive'}, {'aspect': 'work', \"\n",
      " \"'polarity': 'positive'}]}\")\n",
      "-------------------------------------------------------------------------------------------------------------------------------------------------------------\n",
      "'Review: Best'\n",
      "(\"ABSA output: {'translation': None, 'overall_sentiment': 'positive', \"\n",
      " \"'aspects': [{'aspect': 'review', 'polarity': 'positive'}]}\")\n",
      "-------------------------------------------------------------------------------------------------------------------------------------------------------------\n",
      "('Review: First of all, I thank Allah that we can read the Quran through '\n",
      " 'apps.However, this app is different from other apps.In this app, you can '\n",
      " 'read the Quran and learn about every sentence along with its meaning. I '\n",
      " 'would like to thank the person who made this app.Above all, I pray that you '\n",
      " 'may be engaged in all the works of Allah Almighty for the benefit of His '\n",
      " 'servants, and that Allah may accept you as a responsible person.')\n",
      "(\"ABSA output: {'translation': None, 'overall_sentiment': 'positive', \"\n",
      " \"'aspects': [{'aspect': 'Quran', 'polarity': 'positive'}, {'aspect': 'apps', \"\n",
      " \"'polarity': 'positive'}, {'aspect': 'this app', 'polarity': 'positive'}, \"\n",
      " \"{'aspect': 'sentence', 'polarity': 'neutral'}, {'aspect': 'meaning', \"\n",
      " \"'polarity': 'neutral'}]}\")\n",
      "-------------------------------------------------------------------------------------------------------------------------------------------------------------\n",
      "('Review: Wonderful quran app with a very clear translation and tafsir of the '\n",
      " 'Quran.')\n",
      "(\"ABSA output: {'translation': None, 'overall_sentiment': 'positive', \"\n",
      " \"'aspects': [{'aspect': 'quran app', 'polarity': 'positive'}, {'aspect': \"\n",
      " \"'translation', 'polarity': 'positive'}, {'aspect': 'tafsir of the Quran', \"\n",
      " \"'polarity': 'positive'}]}\")\n",
      "-------------------------------------------------------------------------------------------------------------------------------------------------------------\n"
     ]
    }
   ],
   "source": [
    "for review in reviews:\n",
    "    pprint(f\"Review: {review}\")\n",
    "    pprint(f\"ABSA output: {get_sentiment(client, review)}\")\n",
    "    print(\"-------------------------------------------------------------------------------\")"
   ]
  },
  {
   "cell_type": "code",
   "execution_count": null,
   "id": "84f36dc6",
   "metadata": {},
   "outputs": [],
   "source": []
  }
 ],
 "metadata": {
  "kernelspec": {
   "display_name": "autoreply",
   "language": "python",
   "name": "python3"
  },
  "language_info": {
   "codemirror_mode": {
    "name": "ipython",
    "version": 3
   },
   "file_extension": ".py",
   "mimetype": "text/x-python",
   "name": "python",
   "nbconvert_exporter": "python",
   "pygments_lexer": "ipython3",
   "version": "3.13.2"
  }
 },
 "nbformat": 4,
 "nbformat_minor": 5
}
