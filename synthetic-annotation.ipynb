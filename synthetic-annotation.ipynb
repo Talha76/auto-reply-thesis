{
 "cells": [
  {
   "cell_type": "code",
   "execution_count": 1,
   "id": "1617f04e",
   "metadata": {},
   "outputs": [],
   "source": [
    "import pandas as pd"
   ]
  },
  {
   "cell_type": "markdown",
   "id": "9a4ba236",
   "metadata": {},
   "source": [
    "### Dataset merging into one csv"
   ]
  },
  {
   "cell_type": "code",
   "execution_count": 2,
   "id": "eb3e8717",
   "metadata": {},
   "outputs": [],
   "source": [
    "def merge_dfs(df_list: list[pd.DataFrame]) -> pd.DataFrame:\n",
    "    merged_df = pd.concat(df_list, ignore_index=True)\n",
    "    merged_df.drop_duplicates(subset=[\"content\"], inplace=True)\n",
    "    merged_df.dropna(subset=[\"content\"], inplace=True)\n",
    "    merged_df.to_csv(\"./datasets/merged_reviews.csv\", index_label=\"id\")\n",
    "    return merged_df"
   ]
  },
  {
   "cell_type": "code",
   "execution_count": 3,
   "id": "ca3fb5fd",
   "metadata": {},
   "outputs": [],
   "source": [
    "df_list = [\n",
    "    pd.read_csv(\"./datasets/Al_Quran_filtered_reviews.csv\"),\n",
    "    pd.read_csv(\"./datasets/Muslim_Bangla_filtered_reviews.csv\"),\n",
    "    pd.read_csv(\"./datasets/Muslim_Day_filtered_reviews.csv\"),\n",
    "]"
   ]
  },
  {
   "cell_type": "code",
   "execution_count": 4,
   "id": "5818943e",
   "metadata": {},
   "outputs": [
    {
     "data": {
      "text/plain": [
       "(74285, 5)"
      ]
     },
     "execution_count": 4,
     "metadata": {},
     "output_type": "execute_result"
    }
   ],
   "source": [
    "# merged_df = merge_dfs(df_list)\n",
    "merged_df = pd.read_csv(\"./datasets/merged_reviews.csv\")\n",
    "merged_df.shape"
   ]
  },
  {
   "cell_type": "markdown",
   "id": "f44e05c7",
   "metadata": {},
   "source": [
    "### LLM prompting"
   ]
  },
  {
   "cell_type": "markdown",
   "id": "325e0d1c",
   "metadata": {},
   "source": [
    "#### Output schema"
   ]
  },
  {
   "cell_type": "code",
   "execution_count": 5,
   "id": "e8318103",
   "metadata": {},
   "outputs": [
    {
     "name": "stdout",
     "output_type": "stream",
     "text": [
      "{\n",
      "  \"$defs\": {\n",
      "    \"Aspect\": {\n",
      "      \"properties\": {\n",
      "        \"aspect\": {\n",
      "          \"title\": \"Aspect\",\n",
      "          \"type\": \"string\"\n",
      "        },\n",
      "        \"polarity\": {\n",
      "          \"enum\": [\n",
      "            \"positive\",\n",
      "            \"negative\",\n",
      "            \"neutral\"\n",
      "          ],\n",
      "          \"title\": \"Polarity\",\n",
      "          \"type\": \"string\"\n",
      "        }\n",
      "      },\n",
      "      \"required\": [\n",
      "        \"aspect\",\n",
      "        \"polarity\"\n",
      "      ],\n",
      "      \"title\": \"Aspect\",\n",
      "      \"type\": \"object\"\n",
      "    }\n",
      "  },\n",
      "  \"properties\": {\n",
      "    \"translation\": {\n",
      "      \"default\": \"\",\n",
      "      \"title\": \"Translation\",\n",
      "      \"type\": \"string\"\n",
      "    },\n",
      "    \"overall_sentiment\": {\n",
      "      \"enum\": [\n",
      "        \"positive\",\n",
      "        \"negative\",\n",
      "        \"neutral\"\n",
      "      ],\n",
      "      \"title\": \"Overall Sentiment\",\n",
      "      \"type\": \"string\"\n",
      "    },\n",
      "    \"aspects\": {\n",
      "      \"items\": {\n",
      "        \"$ref\": \"#/$defs/Aspect\"\n",
      "      },\n",
      "      \"title\": \"Aspects\",\n",
      "      \"type\": \"array\"\n",
      "    }\n",
      "  },\n",
      "  \"required\": [\n",
      "    \"overall_sentiment\",\n",
      "    \"aspects\"\n",
      "  ],\n",
      "  \"title\": \"Output\",\n",
      "  \"type\": \"object\"\n",
      "}\n"
     ]
    }
   ],
   "source": [
    "from pydantic import BaseModel\n",
    "from typing import Literal\n",
    "import json\n",
    "\n",
    "\n",
    "sentiment_types = Literal[\"positive\", \"negative\", \"neutral\"]\n",
    "\n",
    "\n",
    "class Aspect(BaseModel):\n",
    "    aspect: str\n",
    "    polarity: sentiment_types\n",
    "\n",
    "\n",
    "class Output(BaseModel):\n",
    "    translation: str = \"\"\n",
    "    overall_sentiment: sentiment_types\n",
    "    aspects: list[Aspect]\n",
    "\n",
    "\n",
    "output_schema = Output.model_json_schema()\n",
    "print(json.dumps(output_schema, indent=2))"
   ]
  },
  {
   "cell_type": "markdown",
   "id": "dabbc29a",
   "metadata": {},
   "source": [
    "#### Prompting"
   ]
  },
  {
   "cell_type": "code",
   "execution_count": 13,
   "id": "599356c2",
   "metadata": {},
   "outputs": [
    {
     "data": {
      "text/plain": [
       "True"
      ]
     },
     "execution_count": 13,
     "metadata": {},
     "output_type": "execute_result"
    }
   ],
   "source": [
    "from tqdm import tqdm\n",
    "from utils import get_sentiment, clean_text\n",
    "from dotenv import load_dotenv\n",
    "import os\n",
    "from cerebras.cloud.sdk import Cerebras\n",
    "\n",
    "load_dotenv()"
   ]
  },
  {
   "cell_type": "code",
   "execution_count": 14,
   "id": "1d57d4ba",
   "metadata": {},
   "outputs": [],
   "source": [
    "client = Cerebras(\n",
    "    api_key=os.getenv(\"CEREBRAS_API_KEY_0\")\n",
    ")"
   ]
  },
  {
   "cell_type": "code",
   "execution_count": null,
   "id": "e91bc964",
   "metadata": {},
   "outputs": [],
   "source": [
    "with open(\"./datasets/contents.csv\", \"r\") as f:\n",
    "    with open(\"./out/apc_dataset.txt\", \"w\") as fw:\n",
    "        reviews = [clean_text(line) for line in f.readlines()]\n",
    "        for review in tqdm(reviews, desc=\"Processing reviews\"):\n",
    "            if not review:\n",
    "                continue\n",
    "\n",
    "            llm_output = get_sentiment(client, review)\n",
    "            "
   ]
  },
  {
   "cell_type": "code",
   "execution_count": 11,
   "id": "7874a4b5",
   "metadata": {},
   "outputs": [],
   "source": [
    "# RateLimitError: code 'token_quota_exceeded'\n",
    "# RateLimitError: code 'request_quota_exceeded'\n",
    "# Error code: 429 - {'message': 'Requests per hour limit exceeded - too many requests sent.', 'type': 'too_many_requests_error', 'param': 'quota', 'code': 'request_quota_exceeded'}"
   ]
  },
  {
   "cell_type": "markdown",
   "id": "3916e6fe",
   "metadata": {},
   "source": [
    "#### Experimentation"
   ]
  },
  {
   "cell_type": "code",
   "execution_count": 2,
   "id": "56500016",
   "metadata": {},
   "outputs": [],
   "source": [
    "reviews = [\n",
    "    \"Very good application to learn Al Quran word by word.\",\n",
    "    \"This app is the best and beautiful made. Thanks to those who made it. It really shows that you guys are doing your work for Allah ﷻ. And may Allah ﷻ reward you all.\",\n",
    "    \"Best\",\n",
    "    \"First of all, I thank Allah that we can read the Quran through apps.However, this app is different from other apps.In this app, you can read the Quran and learn about every sentence along with its meaning. I would like to thank the person who made this app.Above all, I pray that you may be engaged in all the works of Allah Almighty for the benefit of His servants, and that Allah may accept you as a responsible person.\",\n",
    "    \"Wonderful quran app with a very clear translation and tafsir of the Quran.\",\n",
    "]"
   ]
  },
  {
   "cell_type": "code",
   "execution_count": 9,
   "id": "97f06e6e",
   "metadata": {},
   "outputs": [
    {
     "data": {
      "text/plain": [
       "True"
      ]
     },
     "execution_count": 9,
     "metadata": {},
     "output_type": "execute_result"
    }
   ],
   "source": [
    "from cerebras.cloud.sdk import Cerebras\n",
    "from pprint import pprint\n",
    "from dotenv import load_dotenv\n",
    "import os\n",
    "from utils import get_sentiment, clean_text\n",
    "\n",
    "load_dotenv()"
   ]
  },
  {
   "cell_type": "code",
   "execution_count": 10,
   "id": "78432b13",
   "metadata": {},
   "outputs": [],
   "source": [
    "client = Cerebras(api_key=os.getenv(\"CEREBRAS_API_KEY_0\"))"
   ]
  },
  {
   "cell_type": "code",
   "execution_count": 11,
   "id": "22db6a5a",
   "metadata": {},
   "outputs": [
    {
     "name": "stdout",
     "output_type": "stream",
     "text": [
      "'Review: very good application to learn al quran word by word'\n",
      "(\"ABSA output: [{'text': 'very good $T$ to learn al quran word by word', \"\n",
      " \"'aspect': 'application', 'polarity': 'Positive'}]\")\n",
      "-------------------------------------------------------------------------------\n",
      "('Review: this app is the best and beautiful made thanks to those who made it '\n",
      " 'it really shows that you guys are doing your work for allah  and may allah  '\n",
      " 'reward you all')\n",
      "(\"ABSA output: [{'text': 'this $T$ is the best and beautiful made thanks to \"\n",
      " 'those who made it it really shows that you guys are doing your work for '\n",
      " \"allah  and may allah  reward you all', 'aspect': 'app', 'polarity': \"\n",
      " \"'Positive'}]\")\n",
      "-------------------------------------------------------------------------------\n",
      "'Review: best'\n",
      "'ABSA output: None'\n",
      "-------------------------------------------------------------------------------\n",
      "('Review: first of all i thank allah that we can read the quran through '\n",
      " 'appshowever this app is different from other appsin this app you can read '\n",
      " 'the quran and learn about every sentence along with its meaning i would like '\n",
      " 'to thank the person who made this appabove all i pray that you may be '\n",
      " 'engaged in all the works of allah almighty for the benefit of his servants '\n",
      " 'and that allah may accept you as a responsible person')\n",
      "(\"ABSA output: [{'text': 'first of all i thank $T$ that we can read the quran \"\n",
      " \"through apps', 'aspect': 'Allah', 'polarity': 'Positive'}, {'text': 'however \"\n",
      " \"this $T$ is different from other apps', 'aspect': 'app', 'polarity': \"\n",
      " \"'Positive'}, {'text': 'in this $T$ you can read the quran and learn about \"\n",
      " \"every sentence along with its meaning', 'aspect': 'app', 'polarity': \"\n",
      " \"'Positive'}, {'text': 'i would like to thank the person who made this $T$', \"\n",
      " \"'aspect': 'app', 'polarity': 'Positive'}, {'text': 'above all i pray that \"\n",
      " 'you may be engaged in all the works of allah almighty for the benefit of his '\n",
      " \"servants and that allah may accept you as a responsible $T$', 'aspect': \"\n",
      " \"'person', 'polarity': 'Positive'}]\")\n",
      "-------------------------------------------------------------------------------\n",
      "('Review: wonderful quran app with a very clear translation and tafsir of the '\n",
      " 'quran')\n",
      "(\"ABSA output: [{'text': 'wonderful $T$ app with a very clear translation and \"\n",
      " \"tafsir of the quran', 'aspect': 'quran app', 'polarity': 'Positive'}, \"\n",
      " \"{'text': 'wonderful quran app with a very clear $T$ and tafsir of the \"\n",
      " \"quran', 'aspect': 'translation', 'polarity': 'Positive'}, {'text': \"\n",
      " \"'wonderful quran app with a very clear translation and $T$ of the quran', \"\n",
      " \"'aspect': 'tafsir', 'polarity': 'Positive'}]\")\n",
      "-------------------------------------------------------------------------------\n"
     ]
    }
   ],
   "source": [
    "def test():\n",
    "    for review in reviews:\n",
    "        text = clean_text(review)\n",
    "        if not text:\n",
    "            continue\n",
    "        pprint(f\"Review: {text}\")\n",
    "        pprint(f\"ABSA output: {get_sentiment(client, text)['aspects']}\")\n",
    "        print(\"-------------------------------------------------------------------------------\")\n",
    "\n",
    "test()"
   ]
  }
 ],
 "metadata": {
  "kernelspec": {
   "display_name": "autoreply",
   "language": "python",
   "name": "python3"
  },
  "language_info": {
   "codemirror_mode": {
    "name": "ipython",
    "version": 3
   },
   "file_extension": ".py",
   "mimetype": "text/x-python",
   "name": "python",
   "nbconvert_exporter": "python",
   "pygments_lexer": "ipython3",
   "version": "3.13.2"
  }
 },
 "nbformat": 4,
 "nbformat_minor": 5
}
